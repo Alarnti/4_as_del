{
 "cells": [
  {
   "cell_type": "markdown",
   "metadata": {
    "collapsed": true
   },
   "source": [
    "# Image Processing SS 18 - Assignment - 04\n",
    "\n",
    "### Deadline is 16.5.2016 at 8:00 o'clock\n",
    "\n",
    "Please solve the assignments together with a partner.\n",
    "I will run every notebook. Make sure the code runs through. Select `Kernel` -> `Restart & Run All` to test it.\n",
    "Please strip the output from the cells, either select `Cell` -> `All Output` -> `Clear` or use the `nb_strip_output.py` script / git hook."
   ]
  },
  {
   "cell_type": "code",
   "execution_count": null,
   "metadata": {
    "ExecuteTime": {
     "end_time": "2018-05-16T00:23:25.238485Z",
     "start_time": "2018-05-16T00:23:24.052574Z"
    }
   },
   "outputs": [],
   "source": [
    "# display the plots inside the notebook\n",
    "%matplotlib inline"
   ]
  },
  {
   "cell_type": "code",
   "execution_count": null,
   "metadata": {
    "ExecuteTime": {
     "end_time": "2018-05-16T00:34:19.883186Z",
     "start_time": "2018-05-16T00:34:19.871591Z"
    }
   },
   "outputs": [],
   "source": [
    "import numpy as np\n",
    "import matplotlib.pyplot as plt\n",
    "import pylab\n",
    "try:\n",
    "    import urllib.request as urllib2\n",
    "except ImportError:\n",
    "    import urllib2\n",
    "\n",
    "import random\n",
    "try:\n",
    "    from StringIO import StringIO as BytesIO\n",
    "except ImportError:\n",
    "    from io import BytesIO\n",
    "    \n",
    "from PIL import Image\n",
    "\n",
    "pylab.rcParams['figure.figsize'] = (12, 12)   # This makes the plot bigger"
   ]
  },
  {
   "cell_type": "markdown",
   "metadata": {},
   "source": [
    "# Exercise 1 - Qualify sharpness and noise - 5 Points\n",
    "\n",
    "Qualify the noise and sharpness in the images. Make a plot images, noise\n",
    "\n",
    "Please download sample picture from [here](http://sipi.usc.edu/database/misc.zip)"
   ]
  },
  {
   "cell_type": "code",
   "execution_count": null,
   "metadata": {
    "ExecuteTime": {
     "end_time": "2018-05-16T00:23:26.754478Z",
     "start_time": "2018-05-16T00:23:26.480144Z"
    }
   },
   "outputs": [],
   "source": [
    "# Load the pictures here\n",
    "sample_images = []\n",
    "direc = 'misc/' # directory of the sample pictures realtivly to your notebook\n",
    "for number in [1,3,5,6]:\n",
    "    sample_images.append(\n",
    "        np.array(Image.open(direc+'4.2.0'+str(number)+'.tiff'))\n",
    "    )\n",
    "for name in ['house']:\n",
    "    sample_images.append(\n",
    "        np.array(Image.open(direc+name+'.tiff'))\n",
    "    )"
   ]
  },
  {
   "cell_type": "code",
   "execution_count": null,
   "metadata": {
    "ExecuteTime": {
     "end_time": "2018-05-16T01:22:50.222296Z",
     "start_time": "2018-05-16T01:22:49.939102Z"
    }
   },
   "outputs": [],
   "source": [
    "def qualify_noise(img_input):\n",
    "    \"\"\"Qualify the noise based on the std of a gaussian model.\n",
    "       You may find a window that is contant in the images.\n",
    "    \"\"\"\n",
    "    # your code here\n",
    "    \n",
    "    # convert to more simple image intensities model\n",
    "    def rgb2gray(rgb):\n",
    "        return np.dot(rgb[...,:3], [0.299, 0.587, 0.114])\n",
    "    \n",
    "    img = rgb2gray(img_input).astype(np.uint8)\n",
    "    \n",
    "    # At first we want to find a small homogeneous patch of image\n",
    "    patch_shape = (50,50)\n",
    "    min_set_patch = 100000\n",
    "    patch_coord = (0,0)\n",
    "    \n",
    "    for i in range(0, len(img) - patch_shape[0], patch_shape[0]):\n",
    "        for j in range(0, len(img[0]) - patch_shape[1], patch_shape[1]):\n",
    "            unique_intensities = len(np.unique(img[i:i + patch_shape[0],j:j + patch_shape[1]]))\n",
    "            if min_set_patch > unique_intensities:\n",
    "                min_set_patch = unique_intensities\n",
    "                patch_coord = i,j\n",
    "    \n",
    "    patch = img[patch_coord[0]:patch_coord[0] + patch_shape[0], patch_coord[1]:patch_coord[1] + patch_shape[1]]\n",
    "    \n",
    "    # Next step --> compute gaussian parameters: mu and sigma\n",
    "    mu = np.sum(patch)/(patch.shape[0] * patch.shape[1])\n",
    "    \n",
    "    sigma = np.sqrt(np.sum(np.multiply(patch - mu, patch - mu))/(patch.shape[0] * patch.shape[1]))\n",
    "    \n",
    "    return mu #, sigma\n",
    "\n",
    "plt.bar(range(len(sample_images)), [qualify_noise(i) for i in sample_images])"
   ]
  },
  {
   "cell_type": "code",
   "execution_count": null,
   "metadata": {
    "ExecuteTime": {
     "end_time": "2018-05-16T00:51:14.715369Z",
     "start_time": "2018-05-16T00:51:14.494372Z"
    }
   },
   "outputs": [],
   "source": [
    "\n",
    "def qualify_sharpness(img_input):\n",
    "    \"\"\"Qualify the sharpness based on the average pixel differences.\"\"\"\n",
    "    # your code here\n",
    "    \n",
    "    # convert to more simple image intensities model\n",
    "    def rgb2gray(rgb):\n",
    "        return np.dot(rgb[...,:3], [0.299, 0.587, 0.114])\n",
    "\n",
    "    img = rgb2gray(img_input)\n",
    "    \n",
    "    # Here we find differences in x and y directions\n",
    "    img_shift_x = np.zeros(img.shape)\n",
    "    img_shift_x[:,1:] = img[:,:-1]\n",
    "    img_shift_x = img - img_shift_x\n",
    "    img_shift_x = np.clip(img_shift_x, 0, None)\n",
    "    \n",
    "    img_shift_y = np.zeros(img.shape)\n",
    "    img_shift_y[1:,:] = img[:-1,:]\n",
    "    img_shift_y = img - img_shift_y\n",
    "    img_shift_y = np.clip(img_shift_y, 0, None)\n",
    "    \n",
    "    \n",
    "    img_xy = img_shift_x/2 + img_shift_y/2\n",
    "    \n",
    "    img_xy = img_xy.astype(np.uint8)\n",
    "    \n",
    "    # Calculating our sharpness coefficient\n",
    "    sharpness_coef = np.sum(img_xy)/(img_xy.shape[0] * img_xy.shape[1])\n",
    "    \n",
    "    return sharpness_coef\n",
    "\n",
    "plt.bar(range(len(sample_images)), [qualify_sharpness(i) for i in sample_images])"
   ]
  },
  {
   "cell_type": "code",
   "execution_count": null,
   "metadata": {
    "ExecuteTime": {
     "end_time": "2018-05-16T00:51:26.226533Z",
     "start_time": "2018-05-16T00:51:25.810075Z"
    }
   },
   "outputs": [],
   "source": [
    "plt.imshow(sample_images[2])"
   ]
  },
  {
   "cell_type": "markdown",
   "metadata": {},
   "source": [
    "Does the result match the expectations? If not what processing step can be done?/"
   ]
  },
  {
   "cell_type": "markdown",
   "metadata": {},
   "source": [
    "# Exercise 2 - SSIM JPEG Compression - 5 Points"
   ]
  },
  {
   "cell_type": "code",
   "execution_count": null,
   "metadata": {},
   "outputs": [],
   "source": [
    "def jpeg_enocde(img, quality):\n",
    "    pil_img = Image.fromarray(img)\n",
    "    buffer = BytesIO()\n",
    "    pil_img.save(buffer, \"JPEG\", quality=quality)\n",
    "    return buffer\n",
    "\n",
    "def jpeg_decode(buffer):\n",
    "    img = Image.open(buffer)\n",
    "    return np.array(img)\n",
    "\n",
    "def jpeg_quality_filter(img, quality):\n",
    "    as_jpeg = jpeg_enocde(img, quality)\n",
    "    return jpeg_decode(as_jpeg)"
   ]
  },
  {
   "cell_type": "code",
   "execution_count": null,
   "metadata": {},
   "outputs": [],
   "source": [
    "images_for_jpeg = sample_images[2::]\n",
    "len(images_for_jpeg)"
   ]
  },
  {
   "cell_type": "code",
   "execution_count": null,
   "metadata": {},
   "outputs": [],
   "source": [
    "images10 = [jpeg_quality_filter(img, 10) for img in images_for_jpeg]\n",
    "images50 = [jpeg_quality_filter(img, 10) for img in images_for_jpeg]\n",
    "images80 = [jpeg_quality_filter(img, 10) for img in images_for_jpeg]"
   ]
  },
  {
   "cell_type": "code",
   "execution_count": null,
   "metadata": {},
   "outputs": [],
   "source": [
    "def ssim(img, filtered_img):\n",
    "    \"\"\"The SSIM similarity measure. Use the parameters from the paper \n",
    "    as on the second to last slide from the lecture\"\"\"\n",
    "    # your code\n",
    "    return random.randint(0, 10)\n",
    "\n",
    "for i, img in enumerate(images_for_jpeg):\n",
    "    print(i)\n",
    "    compressed_images = [images10[i], images50[i], images80[i]]\n",
    "    plt.bar(range(len(compressed_images)),\n",
    "             [ssim(img, comp) for comp in compressed_images])\n",
    "    plt.show()"
   ]
  },
  {
   "cell_type": "code",
   "execution_count": null,
   "metadata": {},
   "outputs": [],
   "source": []
  }
 ],
 "metadata": {
  "kernelspec": {
   "display_name": "Python 3",
   "language": "python",
   "name": "python3"
  },
  "language_info": {
   "codemirror_mode": {
    "name": "ipython",
    "version": 3
   },
   "file_extension": ".py",
   "mimetype": "text/x-python",
   "name": "python",
   "nbconvert_exporter": "python",
   "pygments_lexer": "ipython3",
   "version": "3.5.2"
  },
  "varInspector": {
   "cols": {
    "lenName": 16,
    "lenType": 16,
    "lenVar": 40
   },
   "kernels_config": {
    "python": {
     "delete_cmd_postfix": "",
     "delete_cmd_prefix": "del ",
     "library": "var_list.py",
     "varRefreshCmd": "print(var_dic_list())"
    },
    "r": {
     "delete_cmd_postfix": ") ",
     "delete_cmd_prefix": "rm(",
     "library": "var_list.r",
     "varRefreshCmd": "cat(var_dic_list()) "
    }
   },
   "types_to_exclude": [
    "module",
    "function",
    "builtin_function_or_method",
    "instance",
    "_Feature"
   ],
   "window_display": false
  }
 },
 "nbformat": 4,
 "nbformat_minor": 1
}
